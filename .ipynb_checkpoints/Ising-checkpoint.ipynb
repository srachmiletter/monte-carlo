{
 "cells": [
  {
   "cell_type": "code",
   "execution_count": 1,
   "metadata": {},
   "outputs": [],
   "source": [
    "import numpy as np\n",
    "import random\n",
    "import pprint"
   ]
  },
  {
   "cell_type": "code",
   "execution_count": 2,
   "metadata": {},
   "outputs": [],
   "source": [
    "class sys():\n",
    "    def __init__(self, n_side):\n",
    "        self.n_side = n_side\n",
    "        self.K = 0.1 #J/kT\n",
    "        self.lattice = np.zeros(shape=(n_side,n_side))\n",
    "    \n",
    "    def initialize(self, param):\n",
    "        if param.lower() == 'ordered':\n",
    "            self.lattice = np.ones(shape=(self.n_side, self.n_side))\n",
    "        \n",
    "        elif param.lower() == 'disordered':\n",
    "            for i in range(self.n_side):\n",
    "                for j in range(self.n_side):\n",
    "                    self.lattice[i][j] = np.random.randint(0,2) * 2 - 1 # +/- 1\n",
    "        \n",
    "        else:\n",
    "            print(\"System must be initialized to either 'ordered' or 'disordered'\")\n",
    "            pass\n",
    "        \n",
    "        self.E, self.M = self.calculate_energy()\n",
    "        \n",
    "    def calculate_energy(self):\n",
    "        E = sum(self.site_energy(i,j) for i in range(self.n_side) for j in range(self.n_side))\n",
    "        M = sum(self.lattice[i][j] for i in range(self.n_side) for j in range(self.n_side))\n",
    "        \n",
    "        return E, M\n",
    "    \n",
    "    def site_energy(self, i, j):\n",
    "        left = (i - 1) % self.n_side\n",
    "        right = (i + 1) % self.n_side\n",
    "        up = (j + 1) % self.n_side\n",
    "        down = (j - 1) % self.n_side\n",
    "        neighbors = self.lattice[left][j] + self.lattice[right][j] + self.lattice[i][up] + self.lattice[i][down]\n",
    "        \n",
    "        en = -self.K * self.lattice[i][j] * neighbors\n",
    "        return en\n",
    "\n",
    "    "
   ]
  },
  {
   "cell_type": "code",
   "execution_count": null,
   "metadata": {},
   "outputs": [],
   "source": [
    "def metropolis(sys):\n",
    "    i = random.randrange(sys.n_side)\n",
    "    j = random.randrange(sys.n_side)\n",
    "    de = delta_e(sys, i, j)\n",
    "    \n",
    "    accept = False\n",
    "    if de <= 0:\n",
    "        accept = True\n",
    "    else:\n",
    "        if(random.random() < np.exp(-de)):\n",
    "            accept = True\n",
    "    \n",
    "    if accpet:\n",
    "        sys.lattice[i][j] *= -1\n",
    "        sys.E += de\n",
    "        sys.M += 2 * sys.lattice[i][j]\n",
    "\n",
    "def delta_e(sys, i, j):\n",
    "    de = -2 * sys.site_energy(i,j)\n",
    "    return de\n",
    "\n",
    "def trajectory(sys, steps, sample_freq):\n",
    "    "
   ]
  }
 ],
 "metadata": {
  "kernelspec": {
   "display_name": "Python 3",
   "language": "python",
   "name": "python3"
  },
  "language_info": {
   "codemirror_mode": {
    "name": "ipython",
    "version": 3
   },
   "file_extension": ".py",
   "mimetype": "text/x-python",
   "name": "python",
   "nbconvert_exporter": "python",
   "pygments_lexer": "ipython3",
   "version": "3.7.1"
  }
 },
 "nbformat": 4,
 "nbformat_minor": 2
}
