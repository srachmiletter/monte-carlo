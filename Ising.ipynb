{
 "cells": [
  {
   "cell_type": "code",
   "execution_count": 4,
   "metadata": {},
   "outputs": [],
   "source": [
    "import numpy as np\n",
    "import random\n",
    "import pprint"
   ]
  },
  {
   "cell_type": "code",
   "execution_count": 5,
   "metadata": {},
   "outputs": [],
   "source": [
    "class sys():\n",
    "    def __init__(self, n_side):\n",
    "        self.n_side = n_side\n",
    "        self.K = 0.1 #J/kT\n",
    "        self.lattice = np.zeros(shape=(n_side,n_side))\n",
    "    \n",
    "    def initialize(self, param):\n",
    "        \"\"\"\n",
    "        Function to explicitly initialize the system in either an ordered or disordered state\n",
    "        \"\"\"\n",
    "        if param.lower() == 'ordered':\n",
    "            self.lattice = np.ones(shape=(self.n_side, self.n_side))\n",
    "        \n",
    "        elif param.lower() == 'disordered':\n",
    "            for i in range(self.n_side):\n",
    "                for j in range(self.n_side):\n",
    "                    self.lattice[i][j] = np.random.randint(0,2) * 2 - 1 # +/- 1\n",
    "        \n",
    "        else:\n",
    "            print(\"System must be initialized to either 'ordered' or 'disordered'\")\n",
    "            pass\n",
    "        \n",
    "        # Assign energy and total magnetization\n",
    "        self.E, self.M = self.calculate_energy()\n",
    "        \n",
    "    def calculate_energy(self):\n",
    "        \"\"\"\n",
    "        Calculate total energy (E) and magnetization (M) of the system.\n",
    "        \"\"\"\n",
    "        E = sum(self.site_energy(i,j) for i in range(self.n_side) for j in range(self.n_side))\n",
    "        M = sum(self.lattice[i][j] for i in range(self.n_side) for j in range(self.n_side))\n",
    "        \n",
    "        return E, M\n",
    "    \n",
    "    def site_energy(self, i, j):\n",
    "        \"\"\"\n",
    "        Calculate energy of one site (spin) of the system. Used in calculate_energy function above.\n",
    "        \"\"\"\n",
    "        left = (i - 1) % self.n_side\n",
    "        right = (i + 1) % self.n_side\n",
    "        up = (j + 1) % self.n_side\n",
    "        down = (j - 1) % self.n_side\n",
    "        neighbors = self.lattice[left][j] + self.lattice[right][j] + self.lattice[i][up] + self.lattice[i][down]\n",
    "        \n",
    "        en = -self.K * self.lattice[i][j] * neighbors\n",
    "        return en\n",
    "\n",
    "    "
   ]
  },
  {
   "cell_type": "code",
   "execution_count": 21,
   "metadata": {},
   "outputs": [],
   "source": [
    "def metropolis(sys):\n",
    "    \"\"\"\n",
    "    Implementation of the Metropolis-Hastings algorithm. Attempts to flip one spin at a time, chosen at random.\n",
    "    \"\"\"\n",
    "    i = random.randrange(sys.n_side)\n",
    "    j = random.randrange(sys.n_side)\n",
    "    de = delta_e(sys, i, j)\n",
    "    \n",
    "    accept = False\n",
    "    if de <= 0:\n",
    "        accept = True\n",
    "    else:\n",
    "        if(random.random() < np.exp(-de)):\n",
    "            accept = True\n",
    "    \n",
    "    if accept:\n",
    "        sys.lattice[i][j] *= -1\n",
    "        sys.E += de\n",
    "        sys.M += 2 * sys.lattice[i][j]\n",
    "\n",
    "def delta_e(sys, i, j):\n",
    "    \"\"\"\n",
    "    Calculates the change in energy of a proposed spin flip. Used in metropolis function above.\n",
    "    \"\"\"\n",
    "    de = -2 * sys.site_energy(i,j)\n",
    "    return de\n",
    "\n",
    "def trajectory(sys, steps, sample_freq):\n",
    "    \"\"\"\n",
    "    Executes multiple iterations of metropolis algorithm and records the energy, magnetization, and total lattice.\n",
    "    \"\"\"\n",
    "    traj = dict()\n",
    "    count = 0\n",
    "    for i in range(steps):\n",
    "        metropolis(sys)\n",
    "        if i % sample_freq == 0:\n",
    "            sample = {'Energy': sys.E, 'Magnetization': sys.M, 'Lattice': sys.lattice}\n",
    "            traj[count] = sample\n",
    "            count += 1\n",
    "    return traj\n",
    "    "
   ]
  },
  {
   "cell_type": "code",
   "execution_count": 22,
   "metadata": {},
   "outputs": [
    {
     "data": {
      "text/plain": [
       "array([[0., 0., 0., 0., 0.],\n",
       "       [0., 0., 0., 0., 0.],\n",
       "       [0., 0., 0., 0., 0.],\n",
       "       [0., 0., 0., 0., 0.],\n",
       "       [0., 0., 0., 0., 0.]])"
      ]
     },
     "execution_count": 22,
     "metadata": {},
     "output_type": "execute_result"
    }
   ],
   "source": [
    "S = sys(n_side=5)\n",
    "S.lattice"
   ]
  },
  {
   "cell_type": "code",
   "execution_count": 23,
   "metadata": {},
   "outputs": [
    {
     "data": {
      "text/plain": [
       "array([[1., 1., 1., 1., 1.],\n",
       "       [1., 1., 1., 1., 1.],\n",
       "       [1., 1., 1., 1., 1.],\n",
       "       [1., 1., 1., 1., 1.],\n",
       "       [1., 1., 1., 1., 1.]])"
      ]
     },
     "execution_count": 23,
     "metadata": {},
     "output_type": "execute_result"
    }
   ],
   "source": [
    "S.initialize('ordered')\n",
    "S.lattice"
   ]
  },
  {
   "cell_type": "code",
   "execution_count": 24,
   "metadata": {},
   "outputs": [
    {
     "name": "stdout",
     "output_type": "stream",
     "text": [
      "-10.000000000000004 25.0\n"
     ]
    }
   ],
   "source": [
    "print(S.E, S.M)"
   ]
  },
  {
   "cell_type": "code",
   "execution_count": 25,
   "metadata": {},
   "outputs": [
    {
     "name": "stdout",
     "output_type": "stream",
     "text": [
      "{0: {'Energy': -10.000000000000004,\n",
      "     'Lattice': array([[ 1.,  1., -1., -1.,  1.],\n",
      "       [-1.,  1., -1.,  1.,  1.],\n",
      "       [ 1., -1., -1.,  1.,  1.],\n",
      "       [ 1., -1., -1., -1.,  1.],\n",
      "       [ 1.,  1., -1.,  1.,  1.]]),\n",
      "     'Magnetization': 25.0},\n",
      " 1: {'Energy': -8.400000000000002,\n",
      "     'Lattice': array([[ 1.,  1., -1., -1.,  1.],\n",
      "       [-1.,  1., -1.,  1.,  1.],\n",
      "       [ 1., -1., -1.,  1.,  1.],\n",
      "       [ 1., -1., -1., -1.,  1.],\n",
      "       [ 1.,  1., -1.,  1.,  1.]]),\n",
      "     'Magnetization': 21.0},\n",
      " 2: {'Energy': -7.200000000000002,\n",
      "     'Lattice': array([[ 1.,  1., -1., -1.,  1.],\n",
      "       [-1.,  1., -1.,  1.,  1.],\n",
      "       [ 1., -1., -1.,  1.,  1.],\n",
      "       [ 1., -1., -1., -1.,  1.],\n",
      "       [ 1.,  1., -1.,  1.,  1.]]),\n",
      "     'Magnetization': 17.0},\n",
      " 3: {'Energy': -6.000000000000002,\n",
      "     'Lattice': array([[ 1.,  1., -1., -1.,  1.],\n",
      "       [-1.,  1., -1.,  1.,  1.],\n",
      "       [ 1., -1., -1.,  1.,  1.],\n",
      "       [ 1., -1., -1., -1.,  1.],\n",
      "       [ 1.,  1., -1.,  1.,  1.]]),\n",
      "     'Magnetization': 11.0},\n",
      " 4: {'Energy': -4.800000000000001,\n",
      "     'Lattice': array([[ 1.,  1., -1., -1.,  1.],\n",
      "       [-1.,  1., -1.,  1.,  1.],\n",
      "       [ 1., -1., -1.,  1.,  1.],\n",
      "       [ 1., -1., -1., -1.,  1.],\n",
      "       [ 1.,  1., -1.,  1.,  1.]]),\n",
      "     'Magnetization': 1.0},\n",
      " 5: {'Energy': -4.800000000000001,\n",
      "     'Lattice': array([[ 1.,  1., -1., -1.,  1.],\n",
      "       [-1.,  1., -1.,  1.,  1.],\n",
      "       [ 1., -1., -1.,  1.,  1.],\n",
      "       [ 1., -1., -1., -1.,  1.],\n",
      "       [ 1.,  1., -1.,  1.,  1.]]),\n",
      "     'Magnetization': 1.0},\n",
      " 6: {'Energy': -6.000000000000001,\n",
      "     'Lattice': array([[ 1.,  1., -1., -1.,  1.],\n",
      "       [-1.,  1., -1.,  1.,  1.],\n",
      "       [ 1., -1., -1.,  1.,  1.],\n",
      "       [ 1., -1., -1., -1.,  1.],\n",
      "       [ 1.,  1., -1.,  1.,  1.]]),\n",
      "     'Magnetization': 1.0},\n",
      " 7: {'Energy': -3.9999999999999996,\n",
      "     'Lattice': array([[ 1.,  1., -1., -1.,  1.],\n",
      "       [-1.,  1., -1.,  1.,  1.],\n",
      "       [ 1., -1., -1.,  1.,  1.],\n",
      "       [ 1., -1., -1., -1.,  1.],\n",
      "       [ 1.,  1., -1.,  1.,  1.]]),\n",
      "     'Magnetization': -3.0},\n",
      " 8: {'Energy': -3.9999999999999996,\n",
      "     'Lattice': array([[ 1.,  1., -1., -1.,  1.],\n",
      "       [-1.,  1., -1.,  1.,  1.],\n",
      "       [ 1., -1., -1.,  1.,  1.],\n",
      "       [ 1., -1., -1., -1.,  1.],\n",
      "       [ 1.,  1., -1.,  1.,  1.]]),\n",
      "     'Magnetization': -1.0},\n",
      " 9: {'Energy': -5.2,\n",
      "     'Lattice': array([[ 1.,  1., -1., -1.,  1.],\n",
      "       [-1.,  1., -1.,  1.,  1.],\n",
      "       [ 1., -1., -1.,  1.,  1.],\n",
      "       [ 1., -1., -1., -1.,  1.],\n",
      "       [ 1.,  1., -1.,  1.,  1.]]),\n",
      "     'Magnetization': 7.0}}\n"
     ]
    }
   ],
   "source": [
    "traj = trajectory(S, 100, 10)\n",
    "pprint.pprint(traj)"
   ]
  },
  {
   "cell_type": "code",
   "execution_count": null,
   "metadata": {},
   "outputs": [],
   "source": []
  }
 ],
 "metadata": {
  "kernelspec": {
   "display_name": "Python 3",
   "language": "python",
   "name": "python3"
  },
  "language_info": {
   "codemirror_mode": {
    "name": "ipython",
    "version": 3
   },
   "file_extension": ".py",
   "mimetype": "text/x-python",
   "name": "python",
   "nbconvert_exporter": "python",
   "pygments_lexer": "ipython3",
   "version": "3.7.1"
  }
 },
 "nbformat": 4,
 "nbformat_minor": 2
}
